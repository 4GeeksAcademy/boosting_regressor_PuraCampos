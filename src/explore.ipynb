{
 "cells": [
  {
   "cell_type": "markdown",
   "metadata": {},
   "source": [
    "# Explore here"
   ]
  },
  {
   "cell_type": "code",
   "execution_count": null,
   "metadata": {},
   "outputs": [],
   "source": [
    "import pandas as pd\n",
    "\n",
    "x_con_train = pd.read_csv('/workspaces/boosting_regressor_PuraCampos/data/processed/X_con_train.csv')\n",
    "x_sin_train = pd.read_csv('/workspaces/boosting_regressor_PuraCampos/data/processed/X_sin_train.csv')\n",
    "x_con_test = pd.read_csv('/workspaces/boosting_regressor_PuraCampos/data/processed/X_con_test.csv')\n",
    "x_sin_test = pd.read_csv('/workspaces/boosting_regressor_PuraCampos/data/processed/X_sin_test.csv')\n",
    "y_train=pd.read_csv('/workspaces/boosting_regressor_PuraCampos/data/processed/y_train.csv')\n",
    "y_test=pd.read_csv('/workspaces/boosting_regressor_PuraCampos/data/processed/y_test.csv')"
   ]
  }
 ],
 "metadata": {
  "kernelspec": {
   "display_name": "Python 3.8.13 64-bit ('3.8.13')",
   "language": "python",
   "name": "python3"
  },
  "language_info": {
   "codemirror_mode": {
    "name": "ipython",
    "version": 3
   },
   "file_extension": ".py",
   "mimetype": "text/x-python",
   "name": "python",
   "nbconvert_exporter": "python",
   "pygments_lexer": "ipython3",
   "version": "3.8.13"
  },
  "orig_nbformat": 4,
  "vscode": {
   "interpreter": {
    "hash": "110cc1dee26208153f2972f08a2ad52b6a56238dc66d48e87fb757ef2996db56"
   }
  }
 },
 "nbformat": 4,
 "nbformat_minor": 2
}
